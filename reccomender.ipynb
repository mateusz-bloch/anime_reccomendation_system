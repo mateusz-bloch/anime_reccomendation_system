{
 "cells": [
  {
   "cell_type": "markdown",
   "metadata": {},
   "source": [
    "# Anime Recommendation System\n",
    "We can create in different ways recommendation system\n",
    "Today I will present an anime recommendation system using Content-based recommender systems"
   ]
  },
  {
   "cell_type": "markdown",
   "metadata": {},
   "source": [
    "First, we import the necessary libraries"
   ]
  },
  {
   "cell_type": "code",
   "execution_count": 1,
   "metadata": {},
   "outputs": [],
   "source": [
    "from sklearn.feature_extraction.text import TfidfVectorizer\n",
    "from sklearn.metrics.pairwise import linear_kernel\n",
    "import numpy as np \n",
    "import pandas as pd \n",
    "import re"
   ]
  },
  {
   "cell_type": "markdown",
   "metadata": {},
   "source": [
    "## 0. Data Collection \n",
    "To obtain the data, I used the previously written script in the web_scrapp.py file, which saves the data obtained from the myanimelist website in csv format"
   ]
  },
  {
   "cell_type": "markdown",
   "metadata": {},
   "source": [
    "## 1. Data Preparation\n",
    "To load and clean the data, we will use two python modules, i.e. pandas and regular expressions"
   ]
  },
  {
   "cell_type": "code",
   "execution_count": 2,
   "metadata": {},
   "outputs": [
    {
     "data": {
      "text/html": [
       "<div>\n",
       "<style scoped>\n",
       "    .dataframe tbody tr th:only-of-type {\n",
       "        vertical-align: middle;\n",
       "    }\n",
       "\n",
       "    .dataframe tbody tr th {\n",
       "        vertical-align: top;\n",
       "    }\n",
       "\n",
       "    .dataframe thead th {\n",
       "        text-align: right;\n",
       "    }\n",
       "</style>\n",
       "<table border=\"1\" class=\"dataframe\">\n",
       "  <thead>\n",
       "    <tr style=\"text-align: right;\">\n",
       "      <th></th>\n",
       "      <th>Title</th>\n",
       "      <th>Description</th>\n",
       "      <th>Type</th>\n",
       "      <th>Episodes</th>\n",
       "      <th>Source</th>\n",
       "      <th>Genres</th>\n",
       "      <th>Themes</th>\n",
       "      <th>Demographic</th>\n",
       "      <th>Rating</th>\n",
       "    </tr>\n",
       "  </thead>\n",
       "  <tbody>\n",
       "    <tr>\n",
       "      <th>0</th>\n",
       "      <td>Shingeki no Kyojin</td>\n",
       "      <td>Centuries ago, mankind was slaughtered to near...</td>\n",
       "      <td>TV</td>\n",
       "      <td>25</td>\n",
       "      <td>Manga</td>\n",
       "      <td>'Action', 'Award Winning', 'Drama', 'Suspense'</td>\n",
       "      <td>'Gore', 'Military', 'Survival', 'Gore', 'Milit...</td>\n",
       "      <td>'Shounen'</td>\n",
       "      <td>R - 17+ (violence &amp; profanity)</td>\n",
       "    </tr>\n",
       "    <tr>\n",
       "      <th>1</th>\n",
       "      <td>Death Note</td>\n",
       "      <td>Brutal murders, petty thefts, and senseless vi...</td>\n",
       "      <td>TV</td>\n",
       "      <td>37</td>\n",
       "      <td>Manga</td>\n",
       "      <td>'Supernatural', 'Suspense'</td>\n",
       "      <td>'Psychological'</td>\n",
       "      <td>'Shounen'</td>\n",
       "      <td>R - 17+ (violence &amp; profanity)</td>\n",
       "    </tr>\n",
       "    <tr>\n",
       "      <th>2</th>\n",
       "      <td>Fullmetal Alchemist: Brotherhood</td>\n",
       "      <td>After a horrific alchemy experiment goes wrong...</td>\n",
       "      <td>TV</td>\n",
       "      <td>64</td>\n",
       "      <td>Manga</td>\n",
       "      <td>'Action', 'Adventure', 'Drama', 'Fantasy'</td>\n",
       "      <td>'Military'</td>\n",
       "      <td>'Shounen'</td>\n",
       "      <td>R - 17+ (violence &amp; profanity)</td>\n",
       "    </tr>\n",
       "    <tr>\n",
       "      <th>3</th>\n",
       "      <td>One Punch Man</td>\n",
       "      <td>The seemingly unimpressive Saitama has a rathe...</td>\n",
       "      <td>TV</td>\n",
       "      <td>12</td>\n",
       "      <td>Web manga</td>\n",
       "      <td>'Action', 'Comedy'</td>\n",
       "      <td>'Adult Cast', 'Parody', 'Super Power', 'Adult ...</td>\n",
       "      <td>'Seinen'</td>\n",
       "      <td>R - 17+ (violence &amp; profanity)</td>\n",
       "    </tr>\n",
       "    <tr>\n",
       "      <th>4</th>\n",
       "      <td>Sword Art Online</td>\n",
       "      <td>Ever since the release of the innovative Nerve...</td>\n",
       "      <td>TV</td>\n",
       "      <td>25</td>\n",
       "      <td>Light novel</td>\n",
       "      <td>'Action', 'Adventure', 'Fantasy', 'Romance'</td>\n",
       "      <td>'Love Polygon', 'Video Game', 'Love Polygon', ...</td>\n",
       "      <td>NaN</td>\n",
       "      <td>PG-13 - Teens 13 or older</td>\n",
       "    </tr>\n",
       "  </tbody>\n",
       "</table>\n",
       "</div>"
      ],
      "text/plain": [
       "                              Title  \\\n",
       "0                Shingeki no Kyojin   \n",
       "1                        Death Note   \n",
       "2  Fullmetal Alchemist: Brotherhood   \n",
       "3                     One Punch Man   \n",
       "4                  Sword Art Online   \n",
       "\n",
       "                                         Description Type Episodes  \\\n",
       "0  Centuries ago, mankind was slaughtered to near...   TV       25   \n",
       "1  Brutal murders, petty thefts, and senseless vi...   TV       37   \n",
       "2  After a horrific alchemy experiment goes wrong...   TV       64   \n",
       "3  The seemingly unimpressive Saitama has a rathe...   TV       12   \n",
       "4  Ever since the release of the innovative Nerve...   TV       25   \n",
       "\n",
       "        Source                                          Genres  \\\n",
       "0        Manga  'Action', 'Award Winning', 'Drama', 'Suspense'   \n",
       "1        Manga                      'Supernatural', 'Suspense'   \n",
       "2        Manga       'Action', 'Adventure', 'Drama', 'Fantasy'   \n",
       "3    Web manga                              'Action', 'Comedy'   \n",
       "4  Light novel     'Action', 'Adventure', 'Fantasy', 'Romance'   \n",
       "\n",
       "                                              Themes Demographic  \\\n",
       "0  'Gore', 'Military', 'Survival', 'Gore', 'Milit...   'Shounen'   \n",
       "1                                    'Psychological'   'Shounen'   \n",
       "2                                         'Military'   'Shounen'   \n",
       "3  'Adult Cast', 'Parody', 'Super Power', 'Adult ...    'Seinen'   \n",
       "4  'Love Polygon', 'Video Game', 'Love Polygon', ...         NaN   \n",
       "\n",
       "                           Rating  \n",
       "0  R - 17+ (violence & profanity)  \n",
       "1  R - 17+ (violence & profanity)  \n",
       "2  R - 17+ (violence & profanity)  \n",
       "3  R - 17+ (violence & profanity)  \n",
       "4       PG-13 - Teens 13 or older  "
      ]
     },
     "execution_count": 2,
     "metadata": {},
     "output_type": "execute_result"
    }
   ],
   "source": [
    "data = pd.read_csv(\"anime_data.csv\")\n",
    "data.head()"
   ]
  },
  {
   "cell_type": "code",
   "execution_count": 3,
   "metadata": {},
   "outputs": [],
   "source": [
    "data.dropna(subset=['Title','Description','Type','Source','Genres','Themes','Demographic','Rating'],inplace=True,axis=0)\n",
    "data = data.reset_index(drop=True)"
   ]
  },
  {
   "cell_type": "code",
   "execution_count": 4,
   "metadata": {},
   "outputs": [
    {
     "data": {
      "text/html": [
       "<div>\n",
       "<style scoped>\n",
       "    .dataframe tbody tr th:only-of-type {\n",
       "        vertical-align: middle;\n",
       "    }\n",
       "\n",
       "    .dataframe tbody tr th {\n",
       "        vertical-align: top;\n",
       "    }\n",
       "\n",
       "    .dataframe thead th {\n",
       "        text-align: right;\n",
       "    }\n",
       "</style>\n",
       "<table border=\"1\" class=\"dataframe\">\n",
       "  <thead>\n",
       "    <tr style=\"text-align: right;\">\n",
       "      <th></th>\n",
       "      <th>Title</th>\n",
       "      <th>Description</th>\n",
       "      <th>Type</th>\n",
       "      <th>Episodes</th>\n",
       "      <th>Source</th>\n",
       "      <th>Genres</th>\n",
       "      <th>Themes</th>\n",
       "      <th>Demographic</th>\n",
       "      <th>Rating</th>\n",
       "    </tr>\n",
       "  </thead>\n",
       "  <tbody>\n",
       "    <tr>\n",
       "      <th>0</th>\n",
       "      <td>Shingeki no Kyojin</td>\n",
       "      <td>Centuries ago  mankind was slaughtered to near...</td>\n",
       "      <td>TV</td>\n",
       "      <td>25</td>\n",
       "      <td>Manga</td>\n",
       "      <td>'Action'  'Award Winning'  'Drama'  'Suspense'</td>\n",
       "      <td>'Gore'  'Military'  'Survival'  'Gore'  'Milit...</td>\n",
       "      <td>'Shounen'</td>\n",
       "      <td>R - 17+ (violence &amp; profanity)</td>\n",
       "    </tr>\n",
       "    <tr>\n",
       "      <th>1</th>\n",
       "      <td>Death Note</td>\n",
       "      <td>Brutal murders  petty thefts  and senseless vi...</td>\n",
       "      <td>TV</td>\n",
       "      <td>37</td>\n",
       "      <td>Manga</td>\n",
       "      <td>'Supernatural'  'Suspense'</td>\n",
       "      <td>'Psychological'</td>\n",
       "      <td>'Shounen'</td>\n",
       "      <td>R - 17+ (violence &amp; profanity)</td>\n",
       "    </tr>\n",
       "    <tr>\n",
       "      <th>2</th>\n",
       "      <td>Fullmetal Alchemist: Brotherhood</td>\n",
       "      <td>After a horrific alchemy experiment goes wrong...</td>\n",
       "      <td>TV</td>\n",
       "      <td>64</td>\n",
       "      <td>Manga</td>\n",
       "      <td>'Action'  'Adventure'  'Drama'  'Fantasy'</td>\n",
       "      <td>'Military'</td>\n",
       "      <td>'Shounen'</td>\n",
       "      <td>R - 17+ (violence &amp; profanity)</td>\n",
       "    </tr>\n",
       "    <tr>\n",
       "      <th>3</th>\n",
       "      <td>One Punch Man</td>\n",
       "      <td>The seemingly unimpressive Saitama has a rathe...</td>\n",
       "      <td>TV</td>\n",
       "      <td>12</td>\n",
       "      <td>Web manga</td>\n",
       "      <td>'Action'  'Comedy'</td>\n",
       "      <td>'Adult Cast'  'Parody'  'Super Power'  'Adult ...</td>\n",
       "      <td>'Seinen'</td>\n",
       "      <td>R - 17+ (violence &amp; profanity)</td>\n",
       "    </tr>\n",
       "    <tr>\n",
       "      <th>4</th>\n",
       "      <td>Kimetsu no Yaiba</td>\n",
       "      <td>Ever since the death of his father  the burden...</td>\n",
       "      <td>TV</td>\n",
       "      <td>26</td>\n",
       "      <td>Manga</td>\n",
       "      <td>'Action'  'Award Winning'  'Fantasy'</td>\n",
       "      <td>'Historical'</td>\n",
       "      <td>'Shounen'</td>\n",
       "      <td>R - 17+ (violence &amp; profanity)</td>\n",
       "    </tr>\n",
       "  </tbody>\n",
       "</table>\n",
       "</div>"
      ],
      "text/plain": [
       "                              Title  \\\n",
       "0                Shingeki no Kyojin   \n",
       "1                        Death Note   \n",
       "2  Fullmetal Alchemist: Brotherhood   \n",
       "3                     One Punch Man   \n",
       "4                  Kimetsu no Yaiba   \n",
       "\n",
       "                                         Description Type Episodes     Source  \\\n",
       "0  Centuries ago  mankind was slaughtered to near...   TV       25      Manga   \n",
       "1  Brutal murders  petty thefts  and senseless vi...   TV       37      Manga   \n",
       "2  After a horrific alchemy experiment goes wrong...   TV       64      Manga   \n",
       "3  The seemingly unimpressive Saitama has a rathe...   TV       12  Web manga   \n",
       "4  Ever since the death of his father  the burden...   TV       26      Manga   \n",
       "\n",
       "                                           Genres  \\\n",
       "0  'Action'  'Award Winning'  'Drama'  'Suspense'   \n",
       "1                      'Supernatural'  'Suspense'   \n",
       "2       'Action'  'Adventure'  'Drama'  'Fantasy'   \n",
       "3                              'Action'  'Comedy'   \n",
       "4            'Action'  'Award Winning'  'Fantasy'   \n",
       "\n",
       "                                              Themes Demographic  \\\n",
       "0  'Gore'  'Military'  'Survival'  'Gore'  'Milit...   'Shounen'   \n",
       "1                                    'Psychological'   'Shounen'   \n",
       "2                                         'Military'   'Shounen'   \n",
       "3  'Adult Cast'  'Parody'  'Super Power'  'Adult ...    'Seinen'   \n",
       "4                                       'Historical'   'Shounen'   \n",
       "\n",
       "                           Rating  \n",
       "0  R - 17+ (violence & profanity)  \n",
       "1  R - 17+ (violence & profanity)  \n",
       "2  R - 17+ (violence & profanity)  \n",
       "3  R - 17+ (violence & profanity)  \n",
       "4  R - 17+ (violence & profanity)  "
      ]
     },
     "execution_count": 4,
     "metadata": {},
     "output_type": "execute_result"
    }
   ],
   "source": [
    "data['Description'] = [re.sub(',',' ',t) for t in data['Description']]\n",
    "data['Genres'] = [re.sub(',',' ',t) for t in data['Genres']]\n",
    "data['Themes'] = [re.sub(',',' ',t) for t in data['Themes']]\n",
    "data.head()"
   ]
  },
  {
   "cell_type": "markdown",
   "metadata": {},
   "source": [
    "We also create a column of combined data that we will use to calculate Cosine Similarity"
   ]
  },
  {
   "cell_type": "code",
   "execution_count": 5,
   "metadata": {},
   "outputs": [
    {
     "data": {
      "text/html": [
       "<div>\n",
       "<style scoped>\n",
       "    .dataframe tbody tr th:only-of-type {\n",
       "        vertical-align: middle;\n",
       "    }\n",
       "\n",
       "    .dataframe tbody tr th {\n",
       "        vertical-align: top;\n",
       "    }\n",
       "\n",
       "    .dataframe thead th {\n",
       "        text-align: right;\n",
       "    }\n",
       "</style>\n",
       "<table border=\"1\" class=\"dataframe\">\n",
       "  <thead>\n",
       "    <tr style=\"text-align: right;\">\n",
       "      <th></th>\n",
       "      <th>Title</th>\n",
       "      <th>Description</th>\n",
       "      <th>Type</th>\n",
       "      <th>Episodes</th>\n",
       "      <th>Source</th>\n",
       "      <th>Genres</th>\n",
       "      <th>Themes</th>\n",
       "      <th>Demographic</th>\n",
       "      <th>Rating</th>\n",
       "      <th>combined</th>\n",
       "    </tr>\n",
       "  </thead>\n",
       "  <tbody>\n",
       "    <tr>\n",
       "      <th>0</th>\n",
       "      <td>Shingeki no Kyojin</td>\n",
       "      <td>Centuries ago  mankind was slaughtered to near...</td>\n",
       "      <td>TV</td>\n",
       "      <td>25</td>\n",
       "      <td>Manga</td>\n",
       "      <td>'Action'  'Award Winning'  'Drama'  'Suspense'</td>\n",
       "      <td>'Gore'  'Military'  'Survival'  'Gore'  'Milit...</td>\n",
       "      <td>'Shounen'</td>\n",
       "      <td>R - 17+ (violence &amp; profanity)</td>\n",
       "      <td>Shingeki no Kyojin  Centuries ago  mankind was...</td>\n",
       "    </tr>\n",
       "    <tr>\n",
       "      <th>1</th>\n",
       "      <td>Death Note</td>\n",
       "      <td>Brutal murders  petty thefts  and senseless vi...</td>\n",
       "      <td>TV</td>\n",
       "      <td>37</td>\n",
       "      <td>Manga</td>\n",
       "      <td>'Supernatural'  'Suspense'</td>\n",
       "      <td>'Psychological'</td>\n",
       "      <td>'Shounen'</td>\n",
       "      <td>R - 17+ (violence &amp; profanity)</td>\n",
       "      <td>Death Note  Brutal murders  petty thefts  and ...</td>\n",
       "    </tr>\n",
       "    <tr>\n",
       "      <th>2</th>\n",
       "      <td>Fullmetal Alchemist: Brotherhood</td>\n",
       "      <td>After a horrific alchemy experiment goes wrong...</td>\n",
       "      <td>TV</td>\n",
       "      <td>64</td>\n",
       "      <td>Manga</td>\n",
       "      <td>'Action'  'Adventure'  'Drama'  'Fantasy'</td>\n",
       "      <td>'Military'</td>\n",
       "      <td>'Shounen'</td>\n",
       "      <td>R - 17+ (violence &amp; profanity)</td>\n",
       "      <td>Fullmetal Alchemist: Brotherhood  After a horr...</td>\n",
       "    </tr>\n",
       "    <tr>\n",
       "      <th>3</th>\n",
       "      <td>One Punch Man</td>\n",
       "      <td>The seemingly unimpressive Saitama has a rathe...</td>\n",
       "      <td>TV</td>\n",
       "      <td>12</td>\n",
       "      <td>Web manga</td>\n",
       "      <td>'Action'  'Comedy'</td>\n",
       "      <td>'Adult Cast'  'Parody'  'Super Power'  'Adult ...</td>\n",
       "      <td>'Seinen'</td>\n",
       "      <td>R - 17+ (violence &amp; profanity)</td>\n",
       "      <td>One Punch Man  The seemingly unimpressive Sait...</td>\n",
       "    </tr>\n",
       "    <tr>\n",
       "      <th>4</th>\n",
       "      <td>Kimetsu no Yaiba</td>\n",
       "      <td>Ever since the death of his father  the burden...</td>\n",
       "      <td>TV</td>\n",
       "      <td>26</td>\n",
       "      <td>Manga</td>\n",
       "      <td>'Action'  'Award Winning'  'Fantasy'</td>\n",
       "      <td>'Historical'</td>\n",
       "      <td>'Shounen'</td>\n",
       "      <td>R - 17+ (violence &amp; profanity)</td>\n",
       "      <td>Kimetsu no Yaiba  Ever since the death of his ...</td>\n",
       "    </tr>\n",
       "  </tbody>\n",
       "</table>\n",
       "</div>"
      ],
      "text/plain": [
       "                              Title  \\\n",
       "0                Shingeki no Kyojin   \n",
       "1                        Death Note   \n",
       "2  Fullmetal Alchemist: Brotherhood   \n",
       "3                     One Punch Man   \n",
       "4                  Kimetsu no Yaiba   \n",
       "\n",
       "                                         Description Type Episodes     Source  \\\n",
       "0  Centuries ago  mankind was slaughtered to near...   TV       25      Manga   \n",
       "1  Brutal murders  petty thefts  and senseless vi...   TV       37      Manga   \n",
       "2  After a horrific alchemy experiment goes wrong...   TV       64      Manga   \n",
       "3  The seemingly unimpressive Saitama has a rathe...   TV       12  Web manga   \n",
       "4  Ever since the death of his father  the burden...   TV       26      Manga   \n",
       "\n",
       "                                           Genres  \\\n",
       "0  'Action'  'Award Winning'  'Drama'  'Suspense'   \n",
       "1                      'Supernatural'  'Suspense'   \n",
       "2       'Action'  'Adventure'  'Drama'  'Fantasy'   \n",
       "3                              'Action'  'Comedy'   \n",
       "4            'Action'  'Award Winning'  'Fantasy'   \n",
       "\n",
       "                                              Themes Demographic  \\\n",
       "0  'Gore'  'Military'  'Survival'  'Gore'  'Milit...   'Shounen'   \n",
       "1                                    'Psychological'   'Shounen'   \n",
       "2                                         'Military'   'Shounen'   \n",
       "3  'Adult Cast'  'Parody'  'Super Power'  'Adult ...    'Seinen'   \n",
       "4                                       'Historical'   'Shounen'   \n",
       "\n",
       "                           Rating  \\\n",
       "0  R - 17+ (violence & profanity)   \n",
       "1  R - 17+ (violence & profanity)   \n",
       "2  R - 17+ (violence & profanity)   \n",
       "3  R - 17+ (violence & profanity)   \n",
       "4  R - 17+ (violence & profanity)   \n",
       "\n",
       "                                            combined  \n",
       "0  Shingeki no Kyojin  Centuries ago  mankind was...  \n",
       "1  Death Note  Brutal murders  petty thefts  and ...  \n",
       "2  Fullmetal Alchemist: Brotherhood  After a horr...  \n",
       "3  One Punch Man  The seemingly unimpressive Sait...  \n",
       "4  Kimetsu no Yaiba  Ever since the death of his ...  "
      ]
     },
     "execution_count": 5,
     "metadata": {},
     "output_type": "execute_result"
    }
   ],
   "source": [
    "data[\"combined\"] = data['Title'] + '  ' + data['Description'] + '  ' + data['Type'] + '  ' + data['Source'] + ' ' + data['Genres'] + ' ' + data['Themes'] + ' ' + data['Demographic'] + ' ' + data['Rating']\n",
    "data.head()"
   ]
  },
  {
   "cell_type": "markdown",
   "metadata": {},
   "source": [
    "## 2. Calculating cosine similarity and others things"
   ]
  },
  {
   "cell_type": "code",
   "execution_count": 6,
   "metadata": {},
   "outputs": [],
   "source": [
    "vectorizer = TfidfVectorizer()\n",
    "matrix = vectorizer.fit_transform(data[\"combined\"])\n",
    "cosine_similarities = linear_kernel(matrix,matrix)\n",
    "anime_title = data['Title']\n",
    "indices = pd.Series(data.index, index=data['Title'])"
   ]
  },
  {
   "cell_type": "markdown",
   "metadata": {},
   "source": [
    "## 3. Creating a function to recommend anime based on the title"
   ]
  },
  {
   "cell_type": "code",
   "execution_count": 7,
   "metadata": {},
   "outputs": [],
   "source": [
    "def content_recommender(title):\n",
    "    idx = indices[title]\n",
    "    sim_scores = list(enumerate(cosine_similarities[idx]))\n",
    "    sim_scores = sorted(sim_scores, key=lambda x: x[1], reverse=True)\n",
    "    sim_scores = sim_scores[1:10]\n",
    "    anime_indices = [i[0] for i in sim_scores]\n",
    "    return anime_title.iloc[anime_indices]"
   ]
  },
  {
   "cell_type": "markdown",
   "metadata": {},
   "source": [
    "## 4. Testing"
   ]
  },
  {
   "cell_type": "code",
   "execution_count": 12,
   "metadata": {},
   "outputs": [
    {
     "data": {
      "text/plain": [
       "326               Death Note: Rewrite\n",
       "33                          Kakegurui\n",
       "26                         Soul Eater\n",
       "128      Bungou Stray Dogs 3rd Season\n",
       "138                        Dorohedoro\n",
       "489                   Ueki no Housoku\n",
       "491    Makai Ouji: Devils and Realist\n",
       "309        Yuukoku no Moriarty Part 2\n",
       "866           Kyuuketsuhime Miyu (TV)\n",
       "Name: Title, dtype: object"
      ]
     },
     "execution_count": 12,
     "metadata": {},
     "output_type": "execute_result"
    }
   ],
   "source": [
    "content_recommender(\"Death Note\")"
   ]
  },
  {
   "cell_type": "code",
   "execution_count": 8,
   "metadata": {},
   "outputs": [
    {
     "data": {
      "text/plain": [
       "23                Tokyo Ghoul √A\n",
       "273          Tokyo Ghoul: \"Jack\"\n",
       "46                Tokyo Ghoul:re\n",
       "74     Tokyo Ghoul:re 2nd Season\n",
       "318         Tokyo Ghoul: \"Pinto\"\n",
       "554                      Gantz:O\n",
       "78                         Akira\n",
       "123                         Ajin\n",
       "29                    Elfen Lied\n",
       "Name: Title, dtype: object"
      ]
     },
     "execution_count": 8,
     "metadata": {},
     "output_type": "execute_result"
    }
   ],
   "source": [
    "content_recommender(\"Tokyo Ghoul\")"
   ]
  },
  {
   "cell_type": "code",
   "execution_count": 9,
   "metadata": {},
   "outputs": [
    {
     "data": {
      "text/plain": [
       "7                            Shingeki no Kyojin Season 2\n",
       "9                            Shingeki no Kyojin Season 3\n",
       "14                    Shingeki no Kyojin Season 3 Part 2\n",
       "21                  Shingeki no Kyojin: The Final Season\n",
       "53           Shingeki no Kyojin: The Final Season Part 2\n",
       "692    Shingeki no Kyojin Season 2 Movie: Kakusei no ...\n",
       "307    Shingeki no Kyojin: The Final Season - Kankets...\n",
       "151                               Shingeki no Kyojin OVA\n",
       "607                        Shingeki no Kyojin: Chronicle\n",
       "Name: Title, dtype: object"
      ]
     },
     "execution_count": 9,
     "metadata": {},
     "output_type": "execute_result"
    }
   ],
   "source": [
    "content_recommender(\"Shingeki no Kyojin\")"
   ]
  }
 ],
 "metadata": {
  "kernelspec": {
   "display_name": "Python 3.10.8 64-bit",
   "language": "python",
   "name": "python3"
  },
  "language_info": {
   "codemirror_mode": {
    "name": "ipython",
    "version": 3
   },
   "file_extension": ".py",
   "mimetype": "text/x-python",
   "name": "python",
   "nbconvert_exporter": "python",
   "pygments_lexer": "ipython3",
   "version": "3.10.8"
  },
  "orig_nbformat": 4,
  "vscode": {
   "interpreter": {
    "hash": "e7370f93d1d0cde622a1f8e1c04877d8463912d04d973331ad4851f04de6915a"
   }
  }
 },
 "nbformat": 4,
 "nbformat_minor": 2
}
